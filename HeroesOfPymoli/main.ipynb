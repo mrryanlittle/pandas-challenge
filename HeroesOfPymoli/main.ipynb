# Dependencies and Setup
import pandas as pd

# File to Load (Remember to Change These)
file_to_load = "Resources/purchase_data.csv"

# Read Purchasing File and store into Pandas data frame
purchase_data = pd.read_csv(file_to_load)

# PLAYER COUNT
total_players = purchase_data["SN"].value_counts()
total_players

# PURCHASING ANALYSIS
unique_items = purchase_data["Item Name"].value_counts()
unique_items_count = unique_items.count()
avg_price = purchase_data["Price"].mean()