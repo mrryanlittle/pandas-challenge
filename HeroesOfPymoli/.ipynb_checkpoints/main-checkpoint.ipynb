{
 "cells": [
  {
   "cell_type": "code",
   "execution_count": 184,
   "metadata": {},
   "outputs": [],
   "source": [
    "# Dependencies and Setup\n",
    "import pandas as pd"
   ]
  },
  {
   "cell_type": "code",
   "execution_count": 185,
   "metadata": {},
   "outputs": [],
   "source": [
    "# File to Load (Remember to Change These)\n",
    "file_to_load = \"Resources/purchase_data.csv\""
   ]
  },
  {
   "cell_type": "code",
   "execution_count": 186,
   "metadata": {},
   "outputs": [],
   "source": [
    "# Read Purchasing File and store into Pandas data frame\n",
    "purchase_data = pd.read_csv(file_to_load)"
   ]
  },
  {
   "cell_type": "code",
   "execution_count": 187,
   "metadata": {},
   "outputs": [
    {
     "data": {
      "text/plain": [
       "576"
      ]
     },
     "execution_count": 187,
     "metadata": {},
     "output_type": "execute_result"
    }
   ],
   "source": [
    "# PLAYER COUNT\n",
    "total_players = purchase_data[\"SN\"].nunique()\n",
    "total_players"
   ]
  },
  {
   "cell_type": "code",
   "execution_count": 188,
   "metadata": {},
   "outputs": [
    {
     "name": "stdout",
     "output_type": "stream",
     "text": [
      "- PLAYER COUNT -\n",
      "----------------\n",
      "Total Number of Players: 576\n"
     ]
    }
   ],
   "source": [
    "print(\"- PLAYER COUNT -\")\n",
    "print(\"----------------\")\n",
    "print(\"Total Number of Players: 576\")"
   ]
  },
  {
   "cell_type": "code",
   "execution_count": 189,
   "metadata": {},
   "outputs": [],
   "source": [
    "# PURCHASING ANALYSIS (Total)\n",
    "    # Number of Unique Items\n",
    "unique_items = purchase_data[\"Item Name\"].nunique()\n",
    "    # Average Purchase Price\n",
    "avg_price = purchase_data[\"Price\"].mean()\n",
    "    # Total Number of Purchases\n",
    "total_purchases = purchase_data.count()\n",
    "    # Total Revenue\n",
    "total_revenue = purchase_data[\"Price\"].sum()"
   ]
  },
  {
   "cell_type": "code",
   "execution_count": 190,
   "metadata": {},
   "outputs": [
    {
     "name": "stdout",
     "output_type": "stream",
     "text": [
      "- PURCHASING ANALYSIS -\n",
      "-----------------------\n",
      "Number of Unique Items: 179\n",
      "Average Purchase Price: $3.05\n",
      "Total Number of Purchases: 780\n",
      "Total Revenue: $2,379.77\n"
     ]
    }
   ],
   "source": [
    "print(\"- PURCHASING ANALYSIS -\")\n",
    "print(\"-----------------------\")\n",
    "print(\"Number of Unique Items: 179\")\n",
    "print(\"Average Purchase Price: $3.05\")\n",
    "print(\"Total Number of Purchases: 780\")\n",
    "print(\"Total Revenue: $2,379.77\")"
   ]
  },
  {
   "cell_type": "code",
   "execution_count": 191,
   "metadata": {},
   "outputs": [
    {
     "data": {
      "text/html": [
       "<div>\n",
       "<style scoped>\n",
       "    .dataframe tbody tr th:only-of-type {\n",
       "        vertical-align: middle;\n",
       "    }\n",
       "\n",
       "    .dataframe tbody tr th {\n",
       "        vertical-align: top;\n",
       "    }\n",
       "\n",
       "    .dataframe thead th {\n",
       "        text-align: right;\n",
       "    }\n",
       "</style>\n",
       "<table border=\"1\" class=\"dataframe\">\n",
       "  <thead>\n",
       "    <tr style=\"text-align: right;\">\n",
       "      <th></th>\n",
       "      <th>Gender by Count</th>\n",
       "      <th>Gender by Percent</th>\n",
       "    </tr>\n",
       "    <tr>\n",
       "      <th>Gender</th>\n",
       "      <th></th>\n",
       "      <th></th>\n",
       "    </tr>\n",
       "  </thead>\n",
       "  <tbody>\n",
       "    <tr>\n",
       "      <th>Female</th>\n",
       "      <td>81</td>\n",
       "      <td>14.062500</td>\n",
       "    </tr>\n",
       "    <tr>\n",
       "      <th>Male</th>\n",
       "      <td>484</td>\n",
       "      <td>84.027778</td>\n",
       "    </tr>\n",
       "    <tr>\n",
       "      <th>Other / Non-Disclosed</th>\n",
       "      <td>11</td>\n",
       "      <td>1.909722</td>\n",
       "    </tr>\n",
       "  </tbody>\n",
       "</table>\n",
       "</div>"
      ],
      "text/plain": [
       "                       Gender by Count  Gender by Percent\n",
       "Gender                                                   \n",
       "Female                              81          14.062500\n",
       "Male                               484          84.027778\n",
       "Other / Non-Disclosed               11           1.909722"
      ]
     },
     "execution_count": 191,
     "metadata": {},
     "output_type": "execute_result"
    }
   ],
   "source": [
    "# GENDER DEMOGRAPHICS\n",
    "\n",
    "count_gender = purchase_data.groupby(\"Gender\")[\"SN\"].nunique()\n",
    "percent_gender = (count_gender/576) * 100\n",
    "gender_demo = pd.DataFrame({\"Gender by Count\": count_gender,\n",
    "                           \"Gender by Percent\": percent_gender})\n",
    "gender_demo"
   ]
  },
  {
   "cell_type": "code",
   "execution_count": 192,
   "metadata": {},
   "outputs": [
    {
     "data": {
      "text/plain": [
       "Gender\n",
       "Female                   113\n",
       "Male                     652\n",
       "Other / Non-Disclosed     15\n",
       "Name: Item Name, dtype: int64"
      ]
     },
     "execution_count": 192,
     "metadata": {},
     "output_type": "execute_result"
    }
   ],
   "source": [
    "# PURCHASING ANALYSIS (GENDER)\n",
    "    #Purchase Count\n",
    "purchase_count = purchase_data.groupby(\"Gender\")[\"Item Name\"].count()\n",
    "purchase_count"
   ]
  },
  {
   "cell_type": "code",
   "execution_count": 193,
   "metadata": {},
   "outputs": [
    {
     "data": {
      "text/plain": [
       "Gender\n",
       "Female                   3.203009\n",
       "Male                     3.017853\n",
       "Other / Non-Disclosed    3.346000\n",
       "Name: Price, dtype: float64"
      ]
     },
     "execution_count": 193,
     "metadata": {},
     "output_type": "execute_result"
    }
   ],
   "source": [
    " #Average Purchase Price\n",
    "avg_purchase_price = purchase_data.groupby(\"Gender\")[\"Price\"].mean()\n",
    "avg_purchase_price"
   ]
  },
  {
   "cell_type": "code",
   "execution_count": 194,
   "metadata": {},
   "outputs": [
    {
     "data": {
      "text/plain": [
       "Gender\n",
       "Female                    361.94\n",
       "Male                     1967.64\n",
       "Other / Non-Disclosed      50.19\n",
       "Name: Price, dtype: float64"
      ]
     },
     "execution_count": 194,
     "metadata": {},
     "output_type": "execute_result"
    }
   ],
   "source": [
    "#Total Purchase Value\n",
    "total_purchase_value = purchase_data.groupby(\"Gender\")[\"Price\"].sum()\n",
    "total_purchase_value"
   ]
  },
  {
   "cell_type": "code",
   "execution_count": 195,
   "metadata": {},
   "outputs": [],
   "source": [
    "    #Average Purchase Total per Person by gender\n",
    "        #I Can't Figure This One Out :("
   ]
  },
  {
   "cell_type": "code",
   "execution_count": 196,
   "metadata": {},
   "outputs": [
    {
     "data": {
      "text/plain": [
       "20    99\n",
       "22    70\n",
       "24    67\n",
       "23    67\n",
       "21    62\n",
       "25    59\n",
       "15    35\n",
       "30    35\n",
       "16    30\n",
       "18    26\n",
       "19    23\n",
       "17    22\n",
       "35    14\n",
       "33    14\n",
       "26    14\n",
       "29    13\n",
       "27    10\n",
       "10     9\n",
       "7      9\n",
       "34     9\n",
       "38     9\n",
       "32     8\n",
       "8      8\n",
       "11     7\n",
       "31     7\n",
       "37     7\n",
       "39     6\n",
       "40     6\n",
       "9      6\n",
       "12     6\n",
       "36     5\n",
       "28     5\n",
       "13     4\n",
       "44     2\n",
       "41     2\n",
       "14     2\n",
       "43     1\n",
       "42     1\n",
       "45     1\n",
       "Name: Age, dtype: int64"
      ]
     },
     "execution_count": 196,
     "metadata": {},
     "output_type": "execute_result"
    }
   ],
   "source": [
    "#AGE DEMOGRAPHICS\n",
    "age = purchase_data[\"Age\"].value_counts()\n",
    "age"
   ]
  },
  {
   "cell_type": "code",
   "execution_count": 197,
   "metadata": {},
   "outputs": [],
   "source": [
    "#BROKEN INTO BINS OF 4 YEARS\n",
    "bins = [20,25,30,35,40,45]\n",
    "labels = [\"Twenty to Twenty-Four\",\"Twenty-Five to Twenty-Nine\",\"Thirty to Thirty-Four\",\"Thirty-Five to Thirty-Nine\",\"Fourty to Fourty-Four\",]"
   ]
  },
  {
   "cell_type": "code",
   "execution_count": 198,
   "metadata": {},
   "outputs": [],
   "source": [
    "purchase_data[\"Age Ranges\"] = pd.cut(purchase_data[\"Age\"],bins, labels=labels)"
   ]
  },
  {
   "cell_type": "code",
   "execution_count": 199,
   "metadata": {},
   "outputs": [
    {
     "data": {
      "text/plain": [
       "Age Ranges\n",
       "Twenty to Twenty-Four         325\n",
       "Twenty-Five to Twenty-Nine     77\n",
       "Thirty to Thirty-Four          52\n",
       "Thirty-Five to Thirty-Nine     33\n",
       "Fourty to Fourty-Four           7\n",
       "Name: Purchase ID, dtype: int64"
      ]
     },
     "execution_count": 199,
     "metadata": {},
     "output_type": "execute_result"
    }
   ],
   "source": [
    "#Purchase Count\n",
    "purchase_count = purchase_data.groupby(\"Age Ranges\")\n",
    "purchase_count[\"Purchase ID\"].count()"
   ]
  },
  {
   "cell_type": "code",
   "execution_count": 200,
   "metadata": {},
   "outputs": [
    {
     "data": {
      "text/plain": [
       "Age Ranges\n",
       "Twenty to Twenty-Four         3.020431\n",
       "Twenty-Five to Twenty-Nine    2.875584\n",
       "Thirty to Thirty-Four         2.994423\n",
       "Thirty-Five to Thirty-Nine    3.404545\n",
       "Fourty to Fourty-Four         3.075714\n",
       "Name: Price, dtype: float64"
      ]
     },
     "execution_count": 200,
     "metadata": {},
     "output_type": "execute_result"
    }
   ],
   "source": [
    "#Average Purchase Price\n",
    "purchase_count[\"Price\"].mean()"
   ]
  },
  {
   "cell_type": "code",
   "execution_count": 201,
   "metadata": {},
   "outputs": [
    {
     "data": {
      "text/plain": [
       "Age Ranges\n",
       "Twenty to Twenty-Four         981.64\n",
       "Twenty-Five to Twenty-Nine    221.42\n",
       "Thirty to Thirty-Four         155.71\n",
       "Thirty-Five to Thirty-Nine    112.35\n",
       "Fourty to Fourty-Four          21.53\n",
       "Name: Price, dtype: float64"
      ]
     },
     "execution_count": 201,
     "metadata": {},
     "output_type": "execute_result"
    }
   ],
   "source": [
    "#Total Purchase Value\n",
    "purchase_count[\"Price\"].sum()"
   ]
  },
  {
   "cell_type": "code",
   "execution_count": 202,
   "metadata": {},
   "outputs": [
    {
     "data": {
      "text/plain": [
       "Age Ranges\n",
       "Twenty to Twenty-Four         3.020431\n",
       "Twenty-Five to Twenty-Nine    2.875584\n",
       "Thirty to Thirty-Four         2.994423\n",
       "Thirty-Five to Thirty-Nine    3.404545\n",
       "Fourty to Fourty-Four         3.075714\n",
       "Name: Price, dtype: float64"
      ]
     },
     "execution_count": 202,
     "metadata": {},
     "output_type": "execute_result"
    }
   ],
   "source": [
    "#Average Purchase Total per Person by Age Group\n",
    "purchase_count[\"Price\"].mean()"
   ]
  },
  {
   "cell_type": "code",
   "execution_count": 204,
   "metadata": {},
   "outputs": [],
   "source": [
    "#TOP SPENDERS\n",
    "# Identify the the top 5 spenders in the game by total purchase value,\n",
    "# then list (in a table)\n",
    "top_spenders_sn = purchase_data.groupby(\"SN\")\n",
    "transaction_count = top_spenders_sn[\"Purchase ID\"].count()\n",
    "spent_per_sn = top_spenders_sn[\"Price\"].sum()\n",
    "avg_purchase_price2 = spent_per_sn / transaction_count\n",
    "bigballer_df = ({\"Total Transactions\": transaction_count,\n",
    "                \"Average Spent\": avg_purchase_price2,\n",
    "                \"Total Spent\": spent_per_sn})"
   ]
  },
  {
   "cell_type": "markdown",
   "metadata": {},
   "source": [
    "Three Observable Trends Based On Data:\n",
    "1. 20 to 24 year olds are, by 248, the largest age range for the game.\n",
    "2. There are 403 more male than female players, and 392 more male players than female and other / undisclosed players.\n",
    "3. There are only 484 players, and an income of $2,379.77 from 179 purchases, which is only 37% of the player base buying items. Some of those buyers buy frequently which means less than 37% of the player base buys items. Considering the cost to run game servers the company should consider marketing promotions to players or expanding the player base to increase revenue - unless the game is run by one person on a home server internet connection, in which case he's doing pretty okay!"
   ]
  },
  {
   "cell_type": "code",
   "execution_count": null,
   "metadata": {},
   "outputs": [],
   "source": []
  }
 ],
 "metadata": {
  "kernelspec": {
   "display_name": "Python 3",
   "language": "python",
   "name": "python3"
  },
  "language_info": {
   "codemirror_mode": {
    "name": "ipython",
    "version": 3
   },
   "file_extension": ".py",
   "mimetype": "text/x-python",
   "name": "python",
   "nbconvert_exporter": "python",
   "pygments_lexer": "ipython3",
   "version": "3.7.6"
  }
 },
 "nbformat": 4,
 "nbformat_minor": 4
}
