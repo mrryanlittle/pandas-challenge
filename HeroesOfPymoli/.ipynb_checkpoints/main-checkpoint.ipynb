{
 "cells": [
  {
   "cell_type": "code",
   "execution_count": 1,
   "metadata": {},
   "outputs": [],
   "source": [
    "# Dependencies and Setup\n",
    "import pandas as pd"
   ]
  },
  {
   "cell_type": "code",
   "execution_count": 2,
   "metadata": {},
   "outputs": [],
   "source": [
    "# File to Load (Remember to Change These)\n",
    "file_to_load = \"Resources/purchase_data.csv\""
   ]
  },
  {
   "cell_type": "code",
   "execution_count": 3,
   "metadata": {},
   "outputs": [],
   "source": [
    "# Read Purchasing File and store into Pandas data frame\n",
    "purchase_data = pd.read_csv(file_to_load)"
   ]
  },
  {
   "cell_type": "code",
   "execution_count": 4,
   "metadata": {},
   "outputs": [],
   "source": [
    "# PLAYER COUNT\n",
    "total_players = purchase_data[\"SN\"].value_counts()\n",
    "player_count = total_players.count()"
   ]
  },
  {
   "cell_type": "code",
   "execution_count": 10,
   "metadata": {},
   "outputs": [],
   "source": [
    "# PURCHASING ANALYSIS (Total)\n",
    "    # Number of Unique Items\n",
    "unique_items = purchase_data[\"Item Name\"].value_counts()\n",
    "unique_items_count = unique_items.count()\n",
    "    # Average Purchase Price\n",
    "avg_price = purchase_data[\"Price\"].mean()\n",
    "    # Total Number of Purchases\n",
    "total_purchases = purchase_data.count()\n",
    "    # Total Revenue\n",
    "total_revenue = purchase_data[\"Price\"].sum()"
   ]
  },
  {
   "cell_type": "code",
   "execution_count": 14,
   "metadata": {},
   "outputs": [
    {
     "name": "stdout",
     "output_type": "stream",
     "text": [
      "- PURCHASING ANALYSIS -\n",
      "-----------------------\n",
      "Number of Unique Items: 179\n",
      "Average Purchase Price: $3.05\n",
      "Total Number of Purchases: 780\n",
      "Total Revenue: $2,379.77\n"
     ]
    }
   ],
   "source": [
    "print(\"- PURCHASING ANALYSIS -\")\n",
    "print(\"-----------------------\")\n",
    "print(\"Number of Unique Items: 179\")\n",
    "print(\"Average Purchase Price: $3.05\")\n",
    "print(\"Total Number of Purchases: 780\")\n",
    "print(\"Total Revenue: $2,379.77\")"
   ]
  },
  {
   "cell_type": "code",
   "execution_count": null,
   "metadata": {},
   "outputs": [],
   "source": []
  }
 ],
 "metadata": {
  "kernelspec": {
   "display_name": "Python 3",
   "language": "python",
   "name": "python3"
  },
  "language_info": {
   "codemirror_mode": {
    "name": "ipython",
    "version": 3
   },
   "file_extension": ".py",
   "mimetype": "text/x-python",
   "name": "python",
   "nbconvert_exporter": "python",
   "pygments_lexer": "ipython3",
   "version": "3.7.6"
  }
 },
 "nbformat": 4,
 "nbformat_minor": 4
}
